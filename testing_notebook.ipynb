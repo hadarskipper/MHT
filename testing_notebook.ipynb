{
 "cells": [
  {
   "cell_type": "code",
   "execution_count": 1,
   "metadata": {},
   "outputs": [
    {
     "name": "stdout",
     "output_type": "stream",
     "text": [
      "[<class 'telegram.update.Update'>]\n",
      "[502]\n",
      "[\n",
      "  {\n",
      "    \"message\": {\n",
      "      \"new_chat_photo\": [],\n",
      "      \"text\": \"\\u05e9\\u05d3\\u05d2\\u05db\",\n",
      "      \"message_id\": 796,\n",
      "      \"channel_chat_created\": false,\n",
      "      \"chat\": {\n",
      "        \"first_name\": \"Hadar\",\n",
      "        \"id\": 668617397,\n",
      "        \"username\": \"Hadarskipper\",\n",
      "        \"type\": \"private\"\n",
      "      },\n",
      "      \"supergroup_chat_created\": false,\n",
      "      \"caption_entities\": [],\n",
      "      \"date\": 1643529418,\n",
      "      \"photo\": [],\n",
      "      \"new_chat_members\": [],\n",
      "      \"entities\": [],\n",
      "      \"delete_chat_photo\": false,\n",
      "      \"group_chat_created\": false,\n",
      "      \"from\": {\n",
      "        \"username\": \"Hadarskipper\",\n",
      "        \"first_name\": \"Hadar\",\n",
      "        \"language_code\": \"en\",\n",
      "        \"id\": 668617397,\n",
      "        \"is_bot\": false\n",
      "      }\n",
      "    },\n",
      "    \"update_id\": 895913576\n",
      "  }\n",
      "]\n",
      "{'username': 'ManHaTelebot', 'supports_inline_queries': False, 'first_name': 'MHT', 'can_join_groups': True, 'id': 2079998070, 'can_read_all_group_messages': False, 'is_bot': True}\n"
     ]
    }
   ],
   "source": [
    "import set_environ\n",
    "set_environ.main()\n",
    "\n",
    "import telegram\n",
    "import json\n",
    "import pandas as pd\n",
    "from telegram import KeyboardButton, ReplyKeyboardMarkup\n",
    "from sqlalchemy import insert\n",
    "from sqlalchemy.types import NVARCHAR\n",
    "import telegram\n",
    "from datetime import datetime\n",
    "\n",
    "# from global_vars import sql_connection, last_update_handled, last_update\n",
    "from sql_utils import db_meta\n",
    "from telegram_utils import bot\n",
    "\n",
    "all_updates = bot.get_updates()\n",
    "all_updates_types = [type(update) for update in all_updates]\n",
    "all_updates_len = [len(update.to_json()) for update in all_updates]\n",
    "all_updates_str = json.dumps([json.loads(update.to_json()) for update in all_updates], indent=2)\n",
    "b = bot.get_me()\n",
    "\n",
    "print(all_updates_types)\n",
    "print(all_updates_len)\n",
    "print(all_updates_str)\n",
    "print(b)\n"
   ]
  },
  {
   "cell_type": "code",
   "execution_count": 2,
   "metadata": {},
   "outputs": [],
   "source": [
    "u = all_updates[0]"
   ]
  },
  {
   "cell_type": "code",
   "execution_count": 3,
   "metadata": {},
   "outputs": [],
   "source": [
    "last_update.reset()\n",
    "update = u\n",
    "update_id = last_update.get() + 1\n",
    "insert_dict = dict(\n",
    "    update_id=update_id,\n",
    "    update_telegram_id=update.update_id,\n",
    "    content=update.to_json(),\n",
    "    recived_datetime=datetime.now(),\n",
    "    sent_datetime=None,\n",
    "    from_id=update.message.from_user.id)"
   ]
  },
  {
   "cell_type": "code",
   "execution_count": null,
   "metadata": {},
   "outputs": [],
   "source": []
  },
  {
   "cell_type": "code",
   "execution_count": 4,
   "metadata": {},
   "outputs": [
    {
     "data": {
      "text/plain": [
       "int"
      ]
     },
     "execution_count": 4,
     "metadata": {},
     "output_type": "execute_result"
    }
   ],
   "source": [
    "type(last_update.get())"
   ]
  },
  {
   "cell_type": "code",
   "execution_count": 5,
   "metadata": {},
   "outputs": [],
   "source": [
    "stmt = insert(db_meta.tables['raw_updates']).values(**insert_dict)"
   ]
  },
  {
   "cell_type": "code",
   "execution_count": 6,
   "metadata": {},
   "outputs": [
    {
     "name": "stdout",
     "output_type": "stream",
     "text": [
      "INSERT INTO raw_updates (update_id, update_telegram_id, content, recived_datetime, sent_datetime, from_id) VALUES (:update_id, :update_telegram_id, :content, :recived_datetime, :sent_datetime, :from_id)\n"
     ]
    }
   ],
   "source": [
    "print(stmt)"
   ]
  },
  {
   "cell_type": "code",
   "execution_count": 7,
   "metadata": {},
   "outputs": [
    {
     "name": "stdout",
     "output_type": "stream",
     "text": [
      "<sqlalchemy.engine.result.ResultProxy object at 0x0000014D056FB070>\n"
     ]
    }
   ],
   "source": [
    "result = sql_connection.execute(stmt)\n",
    "print(result)"
   ]
  },
  {
   "cell_type": "code",
   "execution_count": null,
   "metadata": {},
   "outputs": [],
   "source": []
  }
 ],
 "metadata": {
  "interpreter": {
   "hash": "b3ba2566441a7c06988d0923437866b63cedc61552a5af99d1f4fb67d367b25f"
  },
  "kernelspec": {
   "display_name": "Python 3.8.3 64-bit ('base': conda)",
   "language": "python",
   "name": "python3"
  },
  "language_info": {
   "codemirror_mode": {
    "name": "ipython",
    "version": 3
   },
   "file_extension": ".py",
   "mimetype": "text/x-python",
   "name": "python",
   "nbconvert_exporter": "python",
   "pygments_lexer": "ipython3",
   "version": "3.8.3"
  },
  "orig_nbformat": 4
 },
 "nbformat": 4,
 "nbformat_minor": 2
}
